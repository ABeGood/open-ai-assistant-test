{
 "cells": [
  {
   "cell_type": "code",
   "execution_count": 1,
   "id": "a00ba455",
   "metadata": {},
   "outputs": [],
   "source": [
    "from table_processor import TableAgent"
   ]
  },
  {
   "cell_type": "code",
   "execution_count": 2,
   "id": "6d8fe378",
   "metadata": {},
   "outputs": [],
   "source": [
    "table_agent = TableAgent(table_file_path='../../data/files_processed/table_data/tables/generators_start-stop.xlsx',\n",
    "                         data_specs_dir_path = '../../data/files_processed/table_data/annotations')"
   ]
  },
  {
   "cell_type": "code",
   "execution_count": 3,
   "id": "4b38ce9b",
   "metadata": {},
   "outputs": [
    {
     "ename": "NameError",
     "evalue": "name 'show_plot' is not defined",
     "output_type": "error",
     "traceback": [
      "\u001b[31m---------------------------------------------------------------------------\u001b[39m",
      "\u001b[31mNameError\u001b[39m                                 Traceback (most recent call last)",
      "\u001b[36mCell\u001b[39m\u001b[36m \u001b[39m\u001b[32mIn[3]\u001b[39m\u001b[32m, line 1\u001b[39m\n\u001b[32m----> \u001b[39m\u001b[32m1\u001b[39m resp = \u001b[43mtable_agent\u001b[49m\u001b[43m.\u001b[49m\u001b[43manswer_query\u001b[49m\u001b[43m(\u001b[49m\u001b[33;43m'\u001b[39;49m\u001b[33;43mOEM number for Audi A6 2018 with 3.0 TFSI motor\u001b[39;49m\u001b[33;43m'\u001b[39;49m\u001b[43m)\u001b[49m\n",
      "\u001b[36mFile \u001b[39m\u001b[32md:\\Projects\\open-ai-assistant-test\\agents\\table_processor\\table_processor\\agent.py:344\u001b[39m, in \u001b[36mTableAgent.answer_query\u001b[39m\u001b[34m(self, query, save_plot_dir, do_query_rewrite, check_plan, history, check_query_ok, tested_type, save_df)\u001b[39m\n\u001b[32m    336\u001b[39m     \u001b[38;5;28;01mif\u001b[39;00m check_plan:\n\u001b[32m    337\u001b[39m         \u001b[38;5;28mself\u001b[39m._plan = \u001b[38;5;28mself\u001b[39m.llm_calls.generate_replan(\n\u001b[32m    338\u001b[39m             query, \u001b[38;5;28mself\u001b[39m.df, \u001b[38;5;28mself\u001b[39m._plan, data_annotation=\u001b[38;5;28mself\u001b[39m.data_specs)\n\u001b[32m    340\u001b[39m generated_answer, coder_prompt = \u001b[38;5;28mself\u001b[39m.llm_calls.generate_code(\n\u001b[32m    341\u001b[39m     query,\n\u001b[32m    342\u001b[39m     \u001b[38;5;28mself\u001b[39m.df,\n\u001b[32m    343\u001b[39m     \u001b[38;5;28mself\u001b[39m._plan,\n\u001b[32m--> \u001b[39m\u001b[32m344\u001b[39m     show_plot=\u001b[43mshow_plot\u001b[49m,\n\u001b[32m    345\u001b[39m     tagged_query_type=\u001b[38;5;28mself\u001b[39m._tagged_query_type,\n\u001b[32m    346\u001b[39m     llm=\u001b[38;5;28mself\u001b[39m.coder_model,\n\u001b[32m    347\u001b[39m     adapter_path=\u001b[38;5;28mself\u001b[39m.adapter_path,\n\u001b[32m    348\u001b[39m     save_plot_name=possible_plotname,  \u001b[38;5;66;03m# for the \"coder_only\" prompt strategies\u001b[39;00m\n\u001b[32m    349\u001b[39m     data_annotation=\u001b[38;5;28mself\u001b[39m.data_specs,\n\u001b[32m    350\u001b[39m     prompt_name=\u001b[38;5;28mself\u001b[39m.prompt_name\n\u001b[32m    351\u001b[39m )\n\u001b[32m    353\u001b[39m \u001b[38;5;28mprint\u001b[39m(\u001b[33mf\u001b[39m\u001b[33m\"\u001b[39m\u001b[33mGenerated code: \u001b[39m\u001b[38;5;132;01m{\u001b[39;00mgenerated_answer\u001b[38;5;132;01m}\u001b[39;00m\u001b[33m\"\u001b[39m)\n\u001b[32m    354\u001b[39m \u001b[38;5;28mprint\u001b[39m(\u001b[38;5;28mself\u001b[39m._tagged_query_type)\n",
      "\u001b[31mNameError\u001b[39m: name 'show_plot' is not defined"
     ]
    }
   ],
   "source": [
    "resp = table_agent.answer_query('OEM number for Audi A6 2018 with 3.0 TFSI motor')"
   ]
  },
  {
   "cell_type": "code",
   "execution_count": null,
   "id": "4dba3e85",
   "metadata": {},
   "outputs": [],
   "source": [
    "#Usage Example:\n",
    "# Initialize with simple approach\n",
    "llm = LLM(model=\"gpt-4o-mini\")\n",
    "\n",
    "# Set system context (optional)\n",
    "llm.set_system_message(\"You are a data analyst assistant.\")\n",
    "\n",
    "# Use any method - now all use simple chat completions\n",
    "query_type = llm.tag_query_type(\"Show me a scatter plot of sales vs profit\")\n",
    "response = llm.plan_steps_with_gpt(user_query, df, None, query_type)\n",
    "\n",
    "# Clear history when needed\n",
    "llm.clear_conversation_history()"
   ]
  }
 ],
 "metadata": {
  "kernelspec": {
   "display_name": ".venv",
   "language": "python",
   "name": "python3"
  },
  "language_info": {
   "codemirror_mode": {
    "name": "ipython",
    "version": 3
   },
   "file_extension": ".py",
   "mimetype": "text/x-python",
   "name": "python",
   "nbconvert_exporter": "python",
   "pygments_lexer": "ipython3",
   "version": "3.10.11"
  }
 },
 "nbformat": 4,
 "nbformat_minor": 5
}

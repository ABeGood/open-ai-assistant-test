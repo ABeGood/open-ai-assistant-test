{
 "cells": [
  {
   "cell_type": "markdown",
   "id": "e966aacf",
   "metadata": {},
   "source": [
    "# Assistant"
   ]
  },
  {
   "cell_type": "code",
   "execution_count": 1,
   "id": "30fa9a01",
   "metadata": {},
   "outputs": [],
   "source": [
    "import os\n",
    "from dotenv import load_dotenv\n",
    "from openai import OpenAI"
   ]
  },
  {
   "cell_type": "code",
   "execution_count": 2,
   "id": "e50e799d",
   "metadata": {},
   "outputs": [],
   "source": [
    "load_dotenv()\n",
    "token = os.environ.get(\"OPENAI_TOKEN\")\n",
    "client = OpenAI(api_key=token)"
   ]
  },
  {
   "cell_type": "markdown",
   "id": "f7a437a5",
   "metadata": {},
   "source": [
    "# ..."
   ]
  },
  {
   "cell_type": "code",
   "execution_count": 22,
   "id": "00ffc770",
   "metadata": {},
   "outputs": [],
   "source": [
    "assistant = client.beta.assistants.retrieve(assistant_id='asst_OMuFH5IL2MXa4mEsabxBge3y')"
   ]
  },
  {
   "cell_type": "code",
   "execution_count": 23,
   "id": "42183a04",
   "metadata": {},
   "outputs": [
    {
     "name": "stdout",
     "output_type": "stream",
     "text": [
      "[FileSearchTool(type='file_search', file_search=FileSearch(max_num_results=40, ranking_options=FileSearchRankingOptions(score_threshold=0.0, ranker='default_2024_08_21')))]\n",
      "0.01\n",
      "0.65\n"
     ]
    }
   ],
   "source": [
    "print(assistant.tools)\n",
    "print(assistant.temperature)\n",
    "print(assistant.top_p)"
   ]
  },
  {
   "cell_type": "code",
   "execution_count": 24,
   "id": "170eda61",
   "metadata": {},
   "outputs": [
    {
     "name": "stderr",
     "output_type": "stream",
     "text": [
      "C:\\Users\\AG\\AppData\\Local\\Temp\\ipykernel_4280\\3600338518.py:1: DeprecationWarning: The Assistants API is deprecated in favor of the Responses API\n",
      "  thread = client.beta.threads.create()\n"
     ]
    }
   ],
   "source": [
    "thread = client.beta.threads.create()"
   ]
  },
  {
   "cell_type": "code",
   "execution_count": 25,
   "id": "0152a427",
   "metadata": {},
   "outputs": [
    {
     "name": "stderr",
     "output_type": "stream",
     "text": [
      "C:\\Users\\AG\\AppData\\Local\\Temp\\ipykernel_4280\\705410716.py:1: DeprecationWarning: The Assistants API is deprecated in favor of the Responses API\n",
      "  message = client.beta.threads.messages.create(\n"
     ]
    }
   ],
   "source": [
    "message = client.beta.threads.messages.create(\n",
    "  thread_id=thread.id,\n",
    "  role=\"user\",\n",
    "  content=\"что такое ms561?\"\n",
    ")"
   ]
  },
  {
   "cell_type": "code",
   "execution_count": 26,
   "id": "f5da09a7",
   "metadata": {},
   "outputs": [
    {
     "name": "stderr",
     "output_type": "stream",
     "text": [
      "C:\\Users\\AG\\AppData\\Local\\Temp\\ipykernel_4280\\3930257548.py:1: DeprecationWarning: The Assistants API is deprecated in favor of the Responses API\n",
      "  run = client.beta.threads.runs.create_and_poll(\n"
     ]
    },
    {
     "name": "stdout",
     "output_type": "stream",
     "text": [
      "Success!\n"
     ]
    },
    {
     "name": "stderr",
     "output_type": "stream",
     "text": [
      "C:\\Users\\AG\\AppData\\Local\\Temp\\ipykernel_4280\\3930257548.py:9: DeprecationWarning: The Assistants API is deprecated in favor of the Responses API\n",
      "  messages = client.beta.threads.messages.list(\n"
     ]
    },
    {
     "name": "stdout",
     "output_type": "stream",
     "text": [
      "MS561 — это тестер, предназначенный для диагностики электроусилителей рулевых механизмов (ЭУР) и электро-гидроусилителей рулевого управления (ЭГУР). Он используется для проверки рулевых реек, колонок и насосов, как демонтированных с автомобиля, так и установленных на нем. Основные возможности MS561 включают:\n",
      "\n",
      "- Диагностика агрегатов ЭУР и ЭГУР, управляемых по шинам передачи данных (CAN, CAN-FD, FlexRay) и ШИМ-сигналам.\n",
      "- Имитирование работы автомобиля для диагностики агрегатов вне электросистемы автомобиля.\n",
      "- Чтение и удаление ошибок, просмотр данных в реальном времени, программирование VIN, сброс привязки рейки к автомобилю и другие функции.\n",
      "- Подключение через USB, Bluetooth и разъем OBDII.\n",
      "- Поддержка обновления программного обеспечения【4:0†source】【4:1†source】【4:2†source】【4:3†source】.\n",
      "\n",
      "Если вам нужна дополнительная информация, пожалуйста, уточните ваш запрос.\n"
     ]
    }
   ],
   "source": [
    "run = client.beta.threads.runs.create_and_poll(\n",
    "  thread_id=thread.id,\n",
    "  assistant_id=assistant.id,\n",
    "  include=[\"step_details.tool_calls[*].file_search.results[*].content\"]\n",
    ")\n",
    "\n",
    "if run.status == 'completed': \n",
    "    print('Success!')\n",
    "    messages = client.beta.threads.messages.list(\n",
    "        thread_id=thread.id\n",
    "    )\n",
    "    print(messages.data[0].content[0].text.value)\n",
    "else:\n",
    "    print('Fail!')\n",
    "    print(run.status)"
   ]
  },
  {
   "cell_type": "code",
   "execution_count": 27,
   "id": "3149eac0",
   "metadata": {},
   "outputs": [
    {
     "name": "stdout",
     "output_type": "stream",
     "text": [
      "SyncCursorPage[Message](data=[Message(id='msg_TQVWGXeZn0128oBl1SlxJ07e', assistant_id='asst_OMuFH5IL2MXa4mEsabxBge3y', attachments=[], completed_at=None, content=[TextContentBlock(text=Text(annotations=[FileCitationAnnotation(end_index=761, file_citation=FileCitation(file_id='file-AhdqWpxDfinY4CZYtrLGLM'), start_index=749, text='【4:0†source】', type='file_citation'), FileCitationAnnotation(end_index=773, file_citation=FileCitation(file_id='file-LLDG3p1nFhTUf82XrHTJKv'), start_index=761, text='【4:1†source】', type='file_citation'), FileCitationAnnotation(end_index=785, file_citation=FileCitation(file_id='file-2DqUb6x31QxWrqSr7U1Jm4'), start_index=773, text='【4:2†source】', type='file_citation'), FileCitationAnnotation(end_index=797, file_citation=FileCitation(file_id='file-2DqUb6x31QxWrqSr7U1Jm4'), start_index=785, text='【4:3†source】', type='file_citation')], value='MS561 — это тестер, предназначенный для диагностики электроусилителей рулевых механизмов (ЭУР) и электро-гидроусилителей рулевого управления (ЭГУР). Он используется для проверки рулевых реек, колонок и насосов, как демонтированных с автомобиля, так и установленных на нем. Основные возможности MS561 включают:\\n\\n- Диагностика агрегатов ЭУР и ЭГУР, управляемых по шинам передачи данных (CAN, CAN-FD, FlexRay) и ШИМ-сигналам.\\n- Имитирование работы автомобиля для диагностики агрегатов вне электросистемы автомобиля.\\n- Чтение и удаление ошибок, просмотр данных в реальном времени, программирование VIN, сброс привязки рейки к автомобилю и другие функции.\\n- Подключение через USB, Bluetooth и разъем OBDII.\\n- Поддержка обновления программного обеспечения【4:0†source】【4:1†source】【4:2†source】【4:3†source】.\\n\\nЕсли вам нужна дополнительная информация, пожалуйста, уточните ваш запрос.'), type='text')], created_at=1749491697, incomplete_at=None, incomplete_details=None, metadata={}, object='thread.message', role='assistant', run_id='run_5B996H3kJT8M0ME19iUI7rsi', status=None, thread_id='thread_UMOOSCrwsk5rujWFY1ir2Hgv'), Message(id='msg_N6yojseiQtUzaKtRgAvDJfQ4', assistant_id=None, attachments=[], completed_at=None, content=[TextContentBlock(text=Text(annotations=[], value='что такое ms561?'), type='text')], created_at=1749491688, incomplete_at=None, incomplete_details=None, metadata={}, object='thread.message', role='user', run_id=None, status=None, thread_id='thread_UMOOSCrwsk5rujWFY1ir2Hgv')], has_more=False, object='list', first_id='msg_TQVWGXeZn0128oBl1SlxJ07e', last_id='msg_N6yojseiQtUzaKtRgAvDJfQ4')\n"
     ]
    }
   ],
   "source": [
    "print(messages)"
   ]
  },
  {
   "cell_type": "code",
   "execution_count": 29,
   "id": "dcabc28f",
   "metadata": {},
   "outputs": [
    {
     "name": "stdout",
     "output_type": "stream",
     "text": [
      "Filename: 250410 КТ MS561 PRO RU.docx\n",
      "File ID: file-AhdqWpxDfinY4CZYtrLGLM\n",
      "File size: 20424 bytes\n",
      "Created at: 1748884492\n",
      "Purpose: assistants\n",
      "All file properties: ['__abstractmethods__', '__annotations__', '__class__', '__class_getitem__', '__class_vars__', '__copy__', '__deepcopy__', '__delattr__', '__dict__', '__dir__', '__doc__', '__eq__', '__fields__', '__fields_set__', '__format__', '__ge__', '__get_pydantic_core_schema__', '__get_pydantic_json_schema__', '__getattr__', '__getattribute__', '__getstate__', '__gt__', '__hash__', '__init__', '__init_subclass__', '__iter__', '__le__', '__lt__', '__module__', '__ne__', '__new__', '__pretty__', '__private_attributes__', '__pydantic_complete__', '__pydantic_computed_fields__', '__pydantic_core_schema__', '__pydantic_custom_init__', '__pydantic_decorators__', '__pydantic_extra__', '__pydantic_fields__', '__pydantic_fields_set__', '__pydantic_generic_metadata__', '__pydantic_init_subclass__', '__pydantic_parent_namespace__', '__pydantic_post_init__', '__pydantic_private__', '__pydantic_root_model__', '__pydantic_serializer__', '__pydantic_setattr_handlers__', '__pydantic_validator__', '__reduce__', '__reduce_ex__', '__replace__', '__repr__', '__repr_args__', '__repr_name__', '__repr_recursion__', '__repr_str__', '__rich_repr__', '__setattr__', '__setstate__', '__sizeof__', '__slots__', '__str__', '__subclasshook__', '__weakref__', '_abc_impl', '_calculate_keys', '_copy_and_set_values', '_get_value', '_iter', '_request_id', '_setattr_handler', 'bytes', 'construct', 'copy', 'created_at', 'dict', 'expires_at', 'filename', 'from_orm', 'id', 'json', 'model_computed_fields', 'model_config', 'model_construct', 'model_copy', 'model_dump', 'model_dump_json', 'model_extra', 'model_fields', 'model_fields_set', 'model_json_schema', 'model_parametrized_name', 'model_post_init', 'model_rebuild', 'model_validate', 'model_validate_json', 'model_validate_strings', 'object', 'parse_file', 'parse_obj', 'parse_raw', 'purpose', 'schema', 'schema_json', 'status', 'status_details', 'to_dict', 'to_json', 'update_forward_refs', 'validate']\n",
      "File object: FileObject(id='file-AhdqWpxDfinY4CZYtrLGLM', bytes=20424, created_at=1748884492, filename='250410 КТ MS561 PRO RU.docx', object='file', purpose='assistants', status='processed', expires_at=None, status_details=None)\n"
     ]
    }
   ],
   "source": [
    "file_id = 'file-AhdqWpxDfinY4CZYtrLGLM'\n",
    "\n",
    "try:\n",
    "    file_info = client.files.retrieve(file_id)\n",
    "    print(f\"Filename: {file_info.filename}\")\n",
    "    print(f\"File ID: {file_info.id}\")\n",
    "    print(f\"File size: {file_info.bytes} bytes\")\n",
    "    print(f\"Created at: {file_info.created_at}\")\n",
    "    print(f\"Purpose: {file_info.purpose}\")\n",
    "    \n",
    "    # Check if there are additional properties\n",
    "    print(f\"All file properties: {dir(file_info)}\")\n",
    "    print(f\"File object: {file_info}\")\n",
    "    \n",
    "except Exception as e:\n",
    "    print(f\"Error retrieving file: {e}\")"
   ]
  },
  {
   "cell_type": "code",
   "execution_count": 30,
   "id": "cfe07f0b",
   "metadata": {},
   "outputs": [
    {
     "name": "stdout",
     "output_type": "stream",
     "text": [
      "Searching in file: 250410 КТ MS561 PRO RU.docx\n",
      "=== POSITION INFO ===\n",
      "error: Error processing file: Error code: 400 - {'error': {'message': 'Not allowed to download files of purpose: assistants', 'type': 'invalid_request_error', 'param': None, 'code': None}}\n"
     ]
    }
   ],
   "source": [
    "def find_position_in_file(client, file_id, quote_text):\n",
    "    \"\"\"Find the position of quoted text within the original file\"\"\"\n",
    "    \n",
    "    try:\n",
    "        # Get file info\n",
    "        file_info = client.files.retrieve(file_id)\n",
    "        print(f\"Searching in file: {file_info.filename}\")\n",
    "        \n",
    "        # Download file content\n",
    "        file_content = client.files.content(file_id)\n",
    "        content_bytes = file_content.read()\n",
    "        \n",
    "        # Try different encodings\n",
    "        encodings = ['utf-8', 'utf-16', 'latin1', 'cp1252']\n",
    "        content_text = None\n",
    "        \n",
    "        for encoding in encodings:\n",
    "            try:\n",
    "                content_text = content_bytes.decode(encoding)\n",
    "                break\n",
    "            except UnicodeDecodeError:\n",
    "                continue\n",
    "        \n",
    "        if content_text is None:\n",
    "            return {\"error\": \"Could not decode file content\"}\n",
    "        \n",
    "        # Find position of quote\n",
    "        quote_position = content_text.find(quote_text)\n",
    "        \n",
    "        if quote_position == -1:\n",
    "            # Try fuzzy matching for partial quotes\n",
    "            words = quote_text.split()\n",
    "            if len(words) > 3:\n",
    "                partial_quote = ' '.join(words[:3])\n",
    "                quote_position = content_text.find(partial_quote)\n",
    "        \n",
    "        if quote_position != -1:\n",
    "            # Calculate line number and character position\n",
    "            lines_before = content_text[:quote_position].count('\\n')\n",
    "            line_start = content_text.rfind('\\n', 0, quote_position) + 1\n",
    "            char_position = quote_position - line_start\n",
    "            \n",
    "            return {\n",
    "                \"filename\": file_info.filename,\n",
    "                \"byte_position\": quote_position,\n",
    "                \"line_number\": lines_before + 1,\n",
    "                \"char_in_line\": char_position,\n",
    "                \"context_before\": content_text[max(0, quote_position-100):quote_position],\n",
    "                \"quoted_text\": quote_text,\n",
    "                \"context_after\": content_text[quote_position+len(quote_text):quote_position+len(quote_text)+100]\n",
    "            }\n",
    "        else:\n",
    "            return {\"error\": f\"Quote not found in file: {quote_text[:50]}...\"}\n",
    "            \n",
    "    except Exception as e:\n",
    "        return {\"error\": f\"Error processing file: {e}\"}\n",
    "\n",
    "# Use with your citation\n",
    "quote_from_annotation = \"Your quoted text here\"  # Extract from annotation.file_citation.quote\n",
    "position_info = find_position_in_file(client, 'file-AhdqWpxDfinY4CZYtrLGLM', quote_from_annotation)\n",
    "\n",
    "print(\"=== POSITION INFO ===\")\n",
    "for key, value in position_info.items():\n",
    "    print(f\"{key}: {value}\")"
   ]
  },
  {
   "cell_type": "code",
   "execution_count": 13,
   "id": "753ec591",
   "metadata": {},
   "outputs": [
    {
     "name": "stderr",
     "output_type": "stream",
     "text": [
      "C:\\Users\\AG\\AppData\\Local\\Temp\\ipykernel_10572\\2960082042.py:1: DeprecationWarning: The Assistants API is deprecated in favor of the Responses API\n",
      "  run_steps = client.beta.threads.runs.steps.list(\n"
     ]
    }
   ],
   "source": [
    "run_steps = client.beta.threads.runs.steps.list(\n",
    "    thread_id=thread.id,\n",
    "    run_id=run.id\n",
    ")"
   ]
  },
  {
   "cell_type": "code",
   "execution_count": 16,
   "id": "43a256ec",
   "metadata": {},
   "outputs": [
    {
     "data": {
      "text/plain": [
       "SyncCursorPage[RunStep](data=[RunStep(id='step_VdYjtwo7drQ464BT4DH9zxkL', assistant_id='asst_OMuFH5IL2MXa4mEsabxBge3y', cancelled_at=None, completed_at=1749483336, created_at=1749483333, expired_at=None, failed_at=None, last_error=None, metadata=None, object='thread.run.step', run_id='run_I5YZzy2I5hkwKYnm71SRITMz', status='completed', step_details=MessageCreationStepDetails(message_creation=MessageCreation(message_id='msg_BAnBYwbpKQ1az2Cie1wM06J2'), type='message_creation'), thread_id='thread_T6Eo72qbINPg03PJZTbwCfla', type='message_creation', usage=Usage(completion_tokens=297, prompt_tokens=8575, total_tokens=8872, prompt_token_details={'cached_tokens': 0}, completion_tokens_details={'reasoning_tokens': 0}), expires_at=None)], has_more=False, object='list', first_id='step_VdYjtwo7drQ464BT4DH9zxkL', last_id='step_VdYjtwo7drQ464BT4DH9zxkL')"
      ]
     },
     "execution_count": 16,
     "metadata": {},
     "output_type": "execute_result"
    }
   ],
   "source": [
    "run_steps"
   ]
  },
  {
   "cell_type": "code",
   "execution_count": 17,
   "id": "e276c9ad",
   "metadata": {},
   "outputs": [
    {
     "name": "stderr",
     "output_type": "stream",
     "text": [
      "C:\\Users\\AG\\AppData\\Local\\Temp\\ipykernel_10572\\2734872222.py:5: DeprecationWarning: The Assistants API is deprecated in favor of the Responses API\n",
      "  message = client.beta.threads.messages.retrieve(\n"
     ]
    },
    {
     "name": "stdout",
     "output_type": "stream",
     "text": [
      "=== SEARCH CHUNKS DEBUG ===\n",
      "Message ID: msg_BAnBYwbpKQ1az2Cie1wM06J2\n",
      "Role: assistant\n",
      "\n",
      "Message Text: Here is a list of equipment for various diagnostic and repair purposes:\n",
      "\n",
      "1. **Car Air Conditioning Systems:**\n",
      "   - Testers, flushing stations, and diagnostic equipment for compressors .\n",
      "\n",
      "2. **Car Shoc...\n",
      "\n",
      "Found 0 annotations/citations:\n"
     ]
    }
   ],
   "source": [
    "# Use the message_id from your run_steps\n",
    "message_id = 'msg_BAnBYwbpKQ1az2Cie1wM06J2'\n",
    "\n",
    "# Get the specific message\n",
    "message = client.beta.threads.messages.retrieve(\n",
    "    thread_id='thread_T6Eo72qbINPg03PJZTbwCfla',\n",
    "    message_id=message_id\n",
    ")\n",
    "\n",
    "print(\"=== SEARCH CHUNKS DEBUG ===\")\n",
    "print(f\"Message ID: {message.id}\")\n",
    "print(f\"Role: {message.role}\")\n",
    "\n",
    "for content in message.content:\n",
    "    if content.type == \"text\":\n",
    "        print(f\"\\nMessage Text: {content.text.value[:200]}...\")\n",
    "        \n",
    "        # THIS IS WHERE YOUR SEARCH CHUNKS ARE\n",
    "        print(f\"\\nFound {len(content.text.annotations)} annotations/citations:\")\n",
    "        \n",
    "        for i, annotation in enumerate(content.text.annotations):\n",
    "            print(f\"\\n--- Annotation {i+1} ---\")\n",
    "            print(f\"Type: {annotation.type}\")\n",
    "            print(f\"Text: {annotation.text}\")\n",
    "            \n",
    "            if annotation.type == \"file_citation\":\n",
    "                file_citation = annotation.file_citation\n",
    "                print(f\"File ID: {file_citation.file_id}\")\n",
    "                print(f\"Search Chunk/Quote: {file_citation.quote}\")\n",
    "                \n",
    "                # Get file details\n",
    "                try:\n",
    "                    cited_file = client.files.retrieve(file_citation.file_id)\n",
    "                    print(f\"Source File: {cited_file.filename}\")\n",
    "                except:\n",
    "                    print(f\"Could not retrieve file details for {file_citation.file_id}\")"
   ]
  },
  {
   "cell_type": "code",
   "execution_count": 18,
   "id": "35c1f528",
   "metadata": {},
   "outputs": [
    {
     "name": "stdout",
     "output_type": "stream",
     "text": [
      "Run(id='run_I5YZzy2I5hkwKYnm71SRITMz', assistant_id='asst_OMuFH5IL2MXa4mEsabxBge3y', cancelled_at=None, completed_at=1749483336, created_at=1749483331, expires_at=None, failed_at=None, incomplete_details=None, instructions='You are a customer support chatbot with access to a knowledge base containing technical documentation. This knowledge base includes:\\n\\n<knowledge_base>\\n- User manuals\\n- Equipment mounting guides\\n- Diagnostic guides\\n- Product catalogs\\n- Product comparison tables\\n- Product descriptions\\n- FAQ\\n- Links to youtube videos with explanations\\n- Other technical information\\n</knowledge_base>\\n\\nYour role is to assist users by providing accurate information based solely on this knowledge base. Follow these critical requirements:\\n\\n1. ONLY use information retrieved from the knowledge base. Do not make up or infer any facts or information.\\n2. If you cannot find relevant information in the knowledge base, you MUST respond that there is no such information available.\\n3. It is STRICTLY FORBIDDEN to use any knowledge about the real world that is not present in the knowledge base.\\n4. Format all responses in Markdown v1.\\n5. Think in English, but always respond in the language of the user\\'s query.\\n\\nWhen processing a user query, follow these steps:\\n\\n1. Carefully read and understand the user\\'s question.\\n2. Search the knowledge base for relevant information.\\n3. If relevant information is found:\\n   a. Compose a response using ONLY the information from the knowledge base.\\n   b. Format the response in Markdown v1.\\n   c. Include any relevant links or references from the knowledge base.\\n4. If no relevant information is found:\\n   Respond with: \"I apologize, but I don\\'t have any information about that in my knowledge base.\" us the language of user\\'s query.\\n\\nYour response should always be structured as follows:\\n\\n[Your answer in Markdown  format, or a request for clarification, or a statement that no information is available in the language of user\\'s query]\\n\\nRemember, avoiding hallucinations is the top priority. Any information not explicitly present in the knowledge base must not be included in your responses. If you\\'re unsure about the information in the knowledge base, err on the side of caution and state that you don\\'t have the information.\\n\\nIMPORTANT: ALWAYS answer in the language of user\\'s query.', last_error=None, max_completion_tokens=None, max_prompt_tokens=None, metadata={}, model='gpt-3.5-turbo-1106', object='thread.run', parallel_tool_calls=True, required_action=None, response_format=ResponseFormatText(type='text'), started_at=1749483332, status='completed', thread_id='thread_T6Eo72qbINPg03PJZTbwCfla', tool_choice='auto', tools=[FileSearchTool(type='file_search', file_search=FileSearch(max_num_results=40, ranking_options=FileSearchRankingOptions(score_threshold=0.0, ranker='default_2024_08_21')))], truncation_strategy=TruncationStrategy(type='auto', last_messages=None), usage=Usage(completion_tokens=297, prompt_tokens=8575, total_tokens=8872, prompt_token_details={'cached_tokens': 0}, completion_tokens_details={'reasoning_tokens': 0}), temperature=0.01, top_p=0.65, tool_resources={}, reasoning_effort=None)\n"
     ]
    }
   ],
   "source": [
    "print(run)"
   ]
  },
  {
   "cell_type": "code",
   "execution_count": 2,
   "id": "58f29114",
   "metadata": {},
   "outputs": [
    {
     "name": "stdout",
     "output_type": "stream",
     "text": [
      "['220724_MS101P_Руководство_по_эксплуатации_Multi.docx', '230324_MS561_Инструкция_по_замене_платы_Multii.docx', '230424 MS561 User Manual Multi.docx', '230608_MS015_Руководство_по_эксплуатации_Multi.docx', '230915_MS112_Руководство_по_эксплуатации_Multi.docx', '231023_MS_33503A_Руководство_по_эксплуатации_Multi.docx', '240305 KIT005-48V Инструкция по монтажу.docx', '240401_MS504_Руководство_по_эксплуатации_Multi.docx', '240404_MS111_Руководство_по_эксплуатации_Multi.docx', '240411_MS510_Руководство_по_эксплуатации_Multi.docx', '240415_MS015А_Руководство_по_эксплуатации_Multi.docx', '240419_MS511_Руководство_по_эксплуатации_Multi.docx', '240502_MS503N_Руководство_по_эксплуатации_Multi.docx', '240515_MS800_MS800А_Руководство_по_эксплуатации_Multi.docx', '240531 MS016 User Manual Multi.docx', '240605 MS301 User manual Multi.docx', '240607_MS300_Руководство_по_эксплуатации_Multi.docx', '240615_MS900_Руководство_по_эксплуатации_Multi.docx', '240701 FAQ для нового сайта ru V2.2.docx', '240806_MS121_Руководство_по_эксплуатации_Multi.docx', '240809_MS502M_Руководство_по_эксплуатации_Multi.docx', '240819 MS561 PRO диагностический тестер.pdf', '240819 MS900 cтенд для промывки сажевых фильтров.pdf', '240819 Диагностика кондиционера.pdf', '240819 Презентация MS800_MS800A.pdf', '240819 Сравнительная таблица тестеры.pdf', '240827 Стенд для диагностики тормозных суппортов.pdf', '240830 MS521 User Manual Multi.docx', '240905 Стенд для диагностики амортизаторов.pdf', '240918_MS002_COM_Руководство_по_эксплуатации_Multi.docx', '240918_MS004_COM_Руководство_по_эксплуатации_Multi.docx', '241008 Краткие описания кабели RU.xlsx', '241025 KIT002A Инструкция по монтажу.docx', '241029 MS008 User Manual Multi.docx', '241030 MS005 (MS005A) User Manual Multi.docx', '241031 MS006 User Manual Multi.docx', '241204 Специнструмент Описание RU.docx', '241211 MS014 User Manual Multi.docx', '241212 MS012 COM User Manual Multi.docx', '241212 MS021 User manual Multi.docx', '241217 MS013 COM User Manual Multi.docx', '241217 MS402 User Manual Multi.docx', '250109 MS201 User Manual Multi.docx', '250217 MS002A User Manual Multi.docx', '250225 MS200 User Manual Multi.docx', '250307 MS570 User Manual Multi.docx', '250409 Catalog of cables MS005_008_002A RU.pdf', '250410 КТ LOKI-XKEYS RU.docx', '250410 КТ MS561 PRO RU.docx', '250411 КТ LOKI-SECURECONFIG RU.docx', 'FAQ.xlsx', 'Loki сканер для диагностики.pdf', 'MS561Lite тестер.pdf', 'MS800 тестер.pdf', 'MSG MS561  обновление.pdf', 'Presentation MSG_RU.pdf', 'Диагностические_сканеры_для_электромобилей_2.docx', 'Идеи по вопросам от клиентов.xlsx', 'Каталог оборудования.pdf', 'Краткие описания оборудования.xlsx', 'Краткие_Описания_специнструмента_RU.xlsx', 'ОБОРУДОВАНИЕ_ДЛЯ_ДИАГНОСТИКИ,_РЕМОНТА_И_ОБСЛУЖИВАНИЯ_КОНДИЦИОНЕРА.docx', 'ОБОРУДОВАНИЕ_ДЛЯ_ДИАГНОСТИКИ_И_РЕМОНТА_АМОРТИЗАТОРОВ_АВТОМОБИЛЕЙ.docx', 'Оборудование_для_диагностики_и_ремонта_гидравлических_усилителей.docx', 'Оборудование_для_диагностики_и_ремонта_тормозных_суппортов_2.docx', 'Оборудование_для_диагностики_и_ремонта_электрических_усилителей.docx', 'ОБОРУДОВАНИЕ_ДЛЯ_ДИАГНОСТИКИ_СТАРТЕРОВ_И_ГЕНЕРАТОРОВ_АВТОМОБИЛЕЙ+.docx', 'Оборудование_для_диагностики_электромобилей_и_гибридов_2.docx', 'Оборудование_для_промывки_сажевых_фильтров_автомобилей_2.docx', 'Описания карточек товаров.docx', 'Сравнительная таблица.pdf', 'Ссылки YouTube для Агента.xlsx', 'Стенды для стартеров игенераторов.pdf']\n",
      "73\n"
     ]
    }
   ],
   "source": [
    "import os\n",
    "\n",
    "def get_filenames(folder_path):\n",
    "    \"\"\"Get list of just filenames in a folder\"\"\"\n",
    "    try:\n",
    "        # Get all items\n",
    "        items = os.listdir(folder_path)\n",
    "        \n",
    "        # Filter only files (not directories)\n",
    "        files = []\n",
    "        for item in items:\n",
    "            if os.path.isfile(os.path.join(folder_path, item)):\n",
    "                files.append(item)\n",
    "        \n",
    "        return files\n",
    "    \n",
    "    except FileNotFoundError:\n",
    "        print(f\"Folder not found: {folder_path}\")\n",
    "        return []\n",
    "\n",
    "# Usage\n",
    "folder_path = r\"files_raw\"\n",
    "filenames = get_filenames(folder_path)\n",
    "print(filenames)\n",
    "print(len(filenames))"
   ]
  },
  {
   "cell_type": "markdown",
   "id": "e3cada09",
   "metadata": {},
   "source": [
    "# Thread messages"
   ]
  },
  {
   "cell_type": "code",
   "execution_count": 5,
   "id": "fb3c4780",
   "metadata": {},
   "outputs": [
    {
     "name": "stderr",
     "output_type": "stream",
     "text": [
      "C:\\Users\\AG\\AppData\\Local\\Temp\\ipykernel_11004\\132136477.py:7: DeprecationWarning: The Assistants API is deprecated in favor of the Responses API\n",
      "  resp = client.beta.threads.messages.list(thread_id, limit=limit, after=after)\n"
     ]
    }
   ],
   "source": [
    "thread_id = 'thread_PzFzZrSyrI9j6MMhj7whhw7e'\n",
    "all_messages = []\n",
    "limit = 100\n",
    "after = None\n",
    "\n",
    "while True:\n",
    "    resp = client.beta.threads.messages.list(thread_id, limit=limit, after=after)\n",
    "    msgs = resp.data\n",
    "    if not msgs:\n",
    "        break\n",
    "    all_messages.extend(msgs)\n",
    "    after = msgs[-1].id"
   ]
  },
  {
   "cell_type": "code",
   "execution_count": 6,
   "id": "deb02cc3",
   "metadata": {},
   "outputs": [
    {
     "data": {
      "text/plain": [
       "[Message(id='msg_eT42ao00EYHvopZ9TCN2OL1J', assistant_id='asst_aU6DIODwxNlFRxrY3WipBPjz', attachments=[], completed_at=None, content=[], created_at=1752247633, incomplete_at=None, incomplete_details=None, metadata={}, object='thread.message', role='assistant', run_id='run_54VcGYrLsbyHuWgI9amClipG', status=None, thread_id='thread_PzFzZrSyrI9j6MMhj7whhw7e'),\n",
       " Message(id='msg_whX8TlgBzj23kBvBqWT70eJh', assistant_id=None, attachments=[], completed_at=None, content=[TextContentBlock(text=Text(annotations=[], value='\\nUSER REQUEST: \\nпокажи мои предыдушие запросы\\n'), type='text')], created_at=1752247629, incomplete_at=None, incomplete_details=None, metadata={'type': 'routing_decision'}, object='thread.message', role='user', run_id=None, status=None, thread_id='thread_PzFzZrSyrI9j6MMhj7whhw7e'),\n",
       " Message(id='msg_3we09yLd1gn1Slepln9w9CjX', assistant_id='asst_FM5jrNCeRHxy3MpMueV1RkED', attachments=[], completed_at=None, content=[TextContentBlock(text=Text(annotations=[], value='На жаль, у наданій базі знань немає інформації про те, як перевірити діодний міст. Рекомендуємо звернутися до технічної документації або спеціаліста з ремонту електроніки для отримання детальних інструкцій.'), type='text')], created_at=1752247072, incomplete_at=None, incomplete_details=None, metadata={}, object='thread.message', role='assistant', run_id='run_bQb0j5VVqqQItVdATDAZhoi5', status=None, thread_id='thread_PzFzZrSyrI9j6MMhj7whhw7e'),\n",
       " Message(id='msg_vtCMB0JcOZ1IiYbWO4Lm4Txe', assistant_id=None, attachments=[], completed_at=None, content=[TextContentBlock(text=Text(annotations=[], value='USER QUERY: \\nяк перевірити діодний міст?\\n\\nSPECIALISTS RESPONSES:\\nSPECILAIST 1 DATA START\\nSPECIALIST NAME: tools\\nSPECIALIST RESPONSE: На жаль, у наданій базі знань немає інформації про те, як перевірити діодний міст.\\nSPECILAIST 1 DATA END\\n\\nSPECILAIST 2 DATA START\\nSPECIALIST NAME: equipment\\nSPECIALIST RESPONSE: На жаль, у наданій базі знань немає інформації про те, як перевірити діодний міст.\\nSPECILAIST 2 DATA END\\n\\n\\n'), type='text')], created_at=1752247067, incomplete_at=None, incomplete_details=None, metadata={'type': 'combinator_call'}, object='thread.message', role='assistant', run_id=None, status=None, thread_id='thread_PzFzZrSyrI9j6MMhj7whhw7e'),\n",
       " Message(id='msg_lOoGBQ7fjYYK1In0EFQpdXLR', assistant_id='asst_1dQLsAz9p6T2cQyGtnjSeXnv', attachments=[], completed_at=None, content=[TextContentBlock(text=Text(annotations=[], value='На жаль, у наданій базі знань немає інформації про те, як перевірити діодний міст.'), type='text')], created_at=1752247065, incomplete_at=None, incomplete_details=None, metadata={}, object='thread.message', role='assistant', run_id='run_wXAdqlFBrZEFwNoPclJ4ruGT', status=None, thread_id='thread_PzFzZrSyrI9j6MMhj7whhw7e'),\n",
       " Message(id='msg_VYMrslaroefjOJ5LdMfvMENO', assistant_id='asst_jtOdIxiHK1UsVkXaCxM8y0PS', attachments=[], completed_at=None, content=[TextContentBlock(text=Text(annotations=[], value='На жаль, у наданій базі знань немає інформації про те, як перевірити діодний міст.'), type='text')], created_at=1752247057, incomplete_at=None, incomplete_details=None, metadata={}, object='thread.message', role='assistant', run_id='run_T02s5N3SrSQpFOs5FhGLYX26', status=None, thread_id='thread_PzFzZrSyrI9j6MMhj7whhw7e'),\n",
       " Message(id='msg_lJ9iV37WjEUiMhG0h8mCtC6s', assistant_id='asst_aU6DIODwxNlFRxrY3WipBPjz', attachments=[], completed_at=None, content=[TextContentBlock(text=Text(annotations=[], value='{\"user_query\":\"як перевірити діодний міст?\",\"specialists\":[\"tools\",\"equipment\"],\"reason\":\"The query involves the process of testing a diode bridge, which may require specific tools and equipment for accurate diagnostics.\"}'), type='text')], created_at=1752247048, incomplete_at=None, incomplete_details=None, metadata={}, object='thread.message', role='assistant', run_id='run_dAXr3o0JXoVkkL6fA54g8uhf', status=None, thread_id='thread_PzFzZrSyrI9j6MMhj7whhw7e'),\n",
       " Message(id='msg_EXXNKgTv9psuAid1HTKeicGh', assistant_id=None, attachments=[], completed_at=None, content=[TextContentBlock(text=Text(annotations=[], value='\\nUSER REQUEST: \\nяк перевірити діодний міст?\\n'), type='text')], created_at=1752247045, incomplete_at=None, incomplete_details=None, metadata={'type': 'routing_decision'}, object='thread.message', role='user', run_id=None, status=None, thread_id='thread_PzFzZrSyrI9j6MMhj7whhw7e'),\n",
       " Message(id='msg_PzQxWfiRFKxIO1mTc7krxJoo', assistant_id='asst_jtOdIxiHK1UsVkXaCxM8y0PS', attachments=[], completed_at=None, content=[TextContentBlock(text=Text(annotations=[], value='На жаль, у наданій базі знань немає інформації про те, як перевірити діодний міст.'), type='text')], created_at=1752245585, incomplete_at=None, incomplete_details=None, metadata={}, object='thread.message', role='assistant', run_id='run_BwdASXhEdn0xghiaEoa6FY2c', status=None, thread_id='thread_PzFzZrSyrI9j6MMhj7whhw7e'),\n",
       " Message(id='msg_qYRXOOMObq4adQQxQ5UPREIj', assistant_id='asst_aU6DIODwxNlFRxrY3WipBPjz', attachments=[], completed_at=None, content=[TextContentBlock(text=Text(annotations=[], value='{\"user_query\":\"як перевірити діодний міст?\",\"specialists\":[\"tools\",\"equipment\"],\"reason\":\"The query involves the process of testing a diode bridge, which may require specific tools and equipment for accurate diagnostics.\"}'), type='text')], created_at=1752245444, incomplete_at=None, incomplete_details=None, metadata={}, object='thread.message', role='assistant', run_id='run_eIu7EppthJzIrisi8CHVjALM', status=None, thread_id='thread_PzFzZrSyrI9j6MMhj7whhw7e'),\n",
       " Message(id='msg_lyEqYXB3RvG9yvCN6H5wjTCw', assistant_id=None, attachments=[], completed_at=None, content=[TextContentBlock(text=Text(annotations=[], value='\\nUSER REQUEST: \\nяк перевірити діодний міст?\\n'), type='text')], created_at=1752245439, incomplete_at=None, incomplete_details=None, metadata={'type': 'routing_decision'}, object='thread.message', role='user', run_id=None, status=None, thread_id='thread_PzFzZrSyrI9j6MMhj7whhw7e'),\n",
       " Message(id='msg_KakxGlJ4wooJcuZCwYRuchXn', assistant_id='asst_FM5jrNCeRHxy3MpMueV1RkED', attachments=[], completed_at=None, content=[TextContentBlock(text=Text(annotations=[], value='На жаль, у наданій базі знань немає інформації про те, як перевірити діодний міст. Рекомендуємо звернутися до технічної документації або спеціаліста з ремонту електроніки для отримання детальних інструкцій.'), type='text')], created_at=1752245422, incomplete_at=None, incomplete_details=None, metadata={}, object='thread.message', role='assistant', run_id='run_QDx106BrjITmMzVlPWrcXRvt', status=None, thread_id='thread_PzFzZrSyrI9j6MMhj7whhw7e'),\n",
       " Message(id='msg_8UuA4EY4GgrCQs1JRFNU9wTb', assistant_id=None, attachments=[], completed_at=None, content=[TextContentBlock(text=Text(annotations=[], value='USER QUERY: \\nяк перевірити діодний міст?\\n\\nSPECIALISTS RESPONSES:\\nSPECILAIST 1 DATA START\\nSPECIALIST NAME: tools\\nSPECIALIST RESPONSE: На жаль, у наданій базі знань немає інформації про те, як перевірити діодний міст.\\nSPECILAIST 1 DATA END\\n\\nSPECILAIST 2 DATA START\\nSPECIALIST NAME: equipment\\nSPECIALIST RESPONSE: На жаль, у наданій базі знань немає інформації про те, як перевірити діодний міст.\\nSPECILAIST 2 DATA END\\n\\n\\n'), type='text')], created_at=1752245419, incomplete_at=None, incomplete_details=None, metadata={'type': 'combinator_call'}, object='thread.message', role='assistant', run_id=None, status=None, thread_id='thread_PzFzZrSyrI9j6MMhj7whhw7e'),\n",
       " Message(id='msg_hMdERZH1eByeExHkYkXuBGir', assistant_id='asst_1dQLsAz9p6T2cQyGtnjSeXnv', attachments=[], completed_at=None, content=[TextContentBlock(text=Text(annotations=[], value='На жаль, у наданій базі знань немає інформації про те, як перевірити діодний міст.'), type='text')], created_at=1752245416, incomplete_at=None, incomplete_details=None, metadata={}, object='thread.message', role='assistant', run_id='run_Ujh4jFL7SrdFKWm9nnOIwBts', status=None, thread_id='thread_PzFzZrSyrI9j6MMhj7whhw7e'),\n",
       " Message(id='msg_V7wGdPrgxccxnOfv6Iu2Eet3', assistant_id='asst_jtOdIxiHK1UsVkXaCxM8y0PS', attachments=[], completed_at=None, content=[TextContentBlock(text=Text(annotations=[], value='На жаль, у наданій базі знань немає інформації про те, як перевірити діодний міст.'), type='text')], created_at=1752245410, incomplete_at=None, incomplete_details=None, metadata={}, object='thread.message', role='assistant', run_id='run_NeP3JkT70s41QLvGosPfhDqW', status=None, thread_id='thread_PzFzZrSyrI9j6MMhj7whhw7e'),\n",
       " Message(id='msg_xXppIIVraAXEcWwUHT1ih08h', assistant_id='asst_aU6DIODwxNlFRxrY3WipBPjz', attachments=[], completed_at=None, content=[TextContentBlock(text=Text(annotations=[], value='{\"user_query\":\"як перевірити діодний міст?\",\"specialists\":[\"tools\",\"equipment\"],\"reason\":\"The query involves the process of testing a diode bridge, which may require specific tools and equipment for accurate diagnostics.\"}'), type='text')], created_at=1752245403, incomplete_at=None, incomplete_details=None, metadata={}, object='thread.message', role='assistant', run_id='run_yLy7BIZZp4pZHmpNP9vvcMM4', status=None, thread_id='thread_PzFzZrSyrI9j6MMhj7whhw7e'),\n",
       " Message(id='msg_G5qIG1jiXGHt6lqwtv8dqibU', assistant_id=None, attachments=[], completed_at=None, content=[TextContentBlock(text=Text(annotations=[], value='\\nUSER REQUEST: \\nяк перевірити діодний міст?\\n'), type='text')], created_at=1752245397, incomplete_at=None, incomplete_details=None, metadata={'type': 'routing_decision'}, object='thread.message', role='user', run_id=None, status=None, thread_id='thread_PzFzZrSyrI9j6MMhj7whhw7e'),\n",
       " Message(id='msg_D82rHXVdCxMK75I5Bwsr5NC7', assistant_id='asst_1dQLsAz9p6T2cQyGtnjSeXnv', attachments=[], completed_at=None, content=[TextContentBlock(text=Text(annotations=[], value='Стенд MS005 може перевіряти генератори типу Lamp з номінальною напругою 12 В і 24 В. Він підтримує як ручний, так і автоматичний режими діагностики, що дозволяє проводити тестування генераторів цього типу з високою точністю  .'), type='text')], created_at=1752245349, incomplete_at=None, incomplete_details=None, metadata={}, object='thread.message', role='assistant', run_id='run_C554mV9heGXsRsER2DF66mpN', status=None, thread_id='thread_PzFzZrSyrI9j6MMhj7whhw7e'),\n",
       " Message(id='msg_HTBR3QPqCLWJcTnUPDlkmFwx', assistant_id='asst_aU6DIODwxNlFRxrY3WipBPjz', attachments=[], completed_at=None, content=[TextContentBlock(text=Text(annotations=[], value='{\"user_query\":\"який стенд перевіряє генератори типу Lamp?\",\"specialists\":[\"equipment\"],\"reason\":\"The query seeks information about the specific equipment capable of testing Lamp-type generators, which is within the expertise of the equipment specialist.\"}'), type='text')], created_at=1752245336, incomplete_at=None, incomplete_details=None, metadata={}, object='thread.message', role='assistant', run_id='run_XN4H8uX4qjmVNWFUgU4U7QFV', status=None, thread_id='thread_PzFzZrSyrI9j6MMhj7whhw7e'),\n",
       " Message(id='msg_XLgLPBpMRXqeQkmO90QWhuMt', assistant_id=None, attachments=[], completed_at=None, content=[TextContentBlock(text=Text(annotations=[], value='\\nUSER REQUEST: \\nякий стенд перевіряє генератори типу Lamp?\\n'), type='text')], created_at=1752245332, incomplete_at=None, incomplete_details=None, metadata={'type': 'routing_decision'}, object='thread.message', role='user', run_id=None, status=None, thread_id='thread_PzFzZrSyrI9j6MMhj7whhw7e'),\n",
       " Message(id='msg_ZymnKgKW3k3VGsmUPeLHsZwi', assistant_id='asst_1dQLsAz9p6T2cQyGtnjSeXnv', attachments=[], completed_at=None, content=[TextContentBlock(text=Text(annotations=[FileCitationAnnotation(end_index=223, file_citation=FileCitation(file_id='file-4hBp3Y2xkbUQXkXdNxid2q'), start_index=210, text='【10:3†source】', type='file_citation'), FileCitationAnnotation(end_index=236, file_citation=FileCitation(file_id='file-P3aPkqm1nphGqi3SwkYgCr'), start_index=223, text='【10:8†source】', type='file_citation'), FileCitationAnnotation(end_index=382, file_citation=FileCitation(file_id='file-4hBp3Y2xkbUQXkXdNxid2q'), start_index=369, text='【10:3†source】', type='file_citation'), FileCitationAnnotation(end_index=472, file_citation=FileCitation(file_id='file-4hBp3Y2xkbUQXkXdNxid2q'), start_index=459, text='【10:3†source】', type='file_citation'), FileCitationAnnotation(end_index=610, file_citation=FileCitation(file_id='file-6gUJTTgPZyBNtqWxT6z3ik'), start_index=597, text='【10:5†source】', type='file_citation'), FileCitationAnnotation(end_index=623, file_citation=FileCitation(file_id='file-4hBp3Y2xkbUQXkXdNxid2q'), start_index=610, text='【10:3†source】', type='file_citation')], value='Стенд MS005 може перевіряти такі типи генераторів:\\n\\n1. **Генератори з номінальною напругою 12 В та 24 В**:\\n   - Типи: F/67, Lamp, SIG, RLO, RVC, C KOREA, P-D, G, C JAPAN, COM (LIN, BSS), IStars, I-ELOOP (Mazda)【10:3†source】【10:8†source】.\\n\\n2. **Генератори системи \"Stop-Start\"**:\\n   - Генератори Valeo з напругою 12 В, які працюють як у режимі генератора, так і стартера【10:3†source】.\\n\\n3. **Генератори системи \"I-ELOOP\"**:\\n   - Генератори Mazda з напругою 12 В【10:3†source】.\\n\\n4. **Генератори з ремінним приводом (48 В)**:\\n   - Доступно за умови модернізації стенда за допомогою комплекту KIT005-48V【10:5†source】【10:3†source】.\\n\\nЦі можливості дозволяють стенду MS005 проводити діагностику широкого спектра генераторів для легкових та комерційних автомобілів.'), type='text')], created_at=1752245270, incomplete_at=None, incomplete_details=None, metadata={}, object='thread.message', role='assistant', run_id='run_OQox6fuBZOA2qFyfFvdvUxLA', status=None, thread_id='thread_PzFzZrSyrI9j6MMhj7whhw7e'),\n",
       " Message(id='msg_fOK9XxIMjfKJ8rUUxutdMocx', assistant_id='asst_aU6DIODwxNlFRxrY3WipBPjz', attachments=[], completed_at=None, content=[TextContentBlock(text=Text(annotations=[], value='{\"user_query\":\"Які типи генераторів може перевіряти стенд MS005?\",\"specialists\":[\"equipment\"],\"reason\":\"The query pertains to the capabilities of the MS005 equipment in testing various types of generators, which is within the expertise of the equipment specialist.\"}'), type='text')], created_at=1752245259, incomplete_at=None, incomplete_details=None, metadata={}, object='thread.message', role='assistant', run_id='run_d2QlS1UXbCM1BhmowWfBiE0i', status=None, thread_id='thread_PzFzZrSyrI9j6MMhj7whhw7e'),\n",
       " Message(id='msg_LziXUx807G2ZjxkMcx5DYJPX', assistant_id=None, attachments=[], completed_at=None, content=[TextContentBlock(text=Text(annotations=[], value='\\nUSER REQUEST: \\nЯкі типи генераторів може перевіряти стенд MS005 ?\\n'), type='text')], created_at=1752245253, incomplete_at=None, incomplete_details=None, metadata={'type': 'routing_decision'}, object='thread.message', role='user', run_id=None, status=None, thread_id='thread_PzFzZrSyrI9j6MMhj7whhw7e'),\n",
       " Message(id='msg_tHvDQvJ1mqUgtcbLM5y4xf5n', assistant_id='asst_1dQLsAz9p6T2cQyGtnjSeXnv', attachments=[], completed_at=None, content=[TextContentBlock(text=Text(annotations=[FileCitationAnnotation(end_index=465, file_citation=FileCitation(file_id='file-7c8DPN7GCGcfRhxuHKXvGX'), start_index=453, text='【5:7†source】', type='file_citation')], value='MS005A представляет собой диагностический стенд для проверки генераторов и стартеров. Его внешний вид представлен на изображении @D_22_IMG_001_PHOTO_diagnostic-bench-main-elements_fig1. Основные элементы стенда включают:\\n\\n1. Дверь для доступа к батарейному отсеку.\\n2. Рабочую платформу.\\n3. Защитный кожух.\\n4. Сенсорный экран для отображения диагностических параметров и управления функциями стенда.\\n5. Панель управления.\\n6. Поворотные колеса с тормозами【5:7†source】.'), type='text')], created_at=1752244905, incomplete_at=None, incomplete_details=None, metadata={}, object='thread.message', role='assistant', run_id='run_YbALYX6yejgmYTDtumzWSmlB', status=None, thread_id='thread_PzFzZrSyrI9j6MMhj7whhw7e'),\n",
       " Message(id='msg_iyvtsZfwweBbuUvcs13qkTml', assistant_id='asst_aU6DIODwxNlFRxrY3WipBPjz', attachments=[], completed_at=None, content=[TextContentBlock(text=Text(annotations=[], value='{\"user_query\":\"как выглядит MS005A?\",\"specialists\":[\"equipment\"],\"reason\":\"The query requests a description or visual representation of the MS005A equipment, which is within the expertise of the equipment specialist.\"}'), type='text')], created_at=1752244896, incomplete_at=None, incomplete_details=None, metadata={}, object='thread.message', role='assistant', run_id='run_Y2BMrmnKZDH5O6niTdmcvm0P', status=None, thread_id='thread_PzFzZrSyrI9j6MMhj7whhw7e'),\n",
       " Message(id='msg_00OPARjav46Xq77KIHlEoYBM', assistant_id=None, attachments=[], completed_at=None, content=[TextContentBlock(text=Text(annotations=[], value='\\nUSER REQUEST: \\nкак выглядит MS005A?\\n'), type='text')], created_at=1752244893, incomplete_at=None, incomplete_details=None, metadata={'type': 'routing_decision'}, object='thread.message', role='user', run_id=None, status=None, thread_id='thread_PzFzZrSyrI9j6MMhj7whhw7e'),\n",
       " Message(id='msg_w6jQGT11ZRTmiVggq5csG0X9', assistant_id='asst_1dQLsAz9p6T2cQyGtnjSeXnv', attachments=[], completed_at=None, content=[TextContentBlock(text=Text(annotations=[FileCitationAnnotation(end_index=784, file_citation=FileCitation(file_id='file-6EMjqKdr5JzF7MS5HsYPos'), start_index=772, text='【5:5†source】', type='file_citation'), FileCitationAnnotation(end_index=796, file_citation=FileCitation(file_id='file-P5r5mXDx6eD36ri9NTDr9i'), start_index=784, text='【5:6†source】', type='file_citation')], value='В ручном режиме проверки на стенде MS005A измеряются следующие параметры:\\n\\n1. **Скорость вращения ротора генератора (Speed RPM)** — измеряется в диапазоне от 0 до 3000 об/мин.\\n2. **Напряжение на выходе генератора (U DC, V)** — измеряется на клемме B+.\\n3. **Сила постоянного тока (I DC, A)** — измеряется в цепи B+.\\n4. **Сила переменного тока (I AC, A)** — измеряется в цепи B+.\\n5. **Частота сигнала (Frequency Hz)** — измеряется через каналы FR, DFM, M.\\n6. **Коэффициент заполнения сигнала (Duty %)** — показывает степень активации обмотки ротора.\\n7. **Температура регулятора напряжения (Temp. °С)** — измеряется встроенным датчиком регулятора.\\n8. **Ошибки регулятора напряжения (Errors)** — отображаются сообщения о механических, электрических или тепловых неисправностях【5:5†source】【5:6†source】.\\n\\nЭти параметры позволяют провести детальную диагностику генератора и выявить возможные неисправности.'), type='text')], created_at=1752244686, incomplete_at=None, incomplete_details=None, metadata={}, object='thread.message', role='assistant', run_id='run_4XWSSZUt71o47n2mZNHilOoO', status=None, thread_id='thread_PzFzZrSyrI9j6MMhj7whhw7e'),\n",
       " Message(id='msg_OF2z4fzOxOzmRdeMXD7FptJB', assistant_id='asst_aU6DIODwxNlFRxrY3WipBPjz', attachments=[], completed_at=None, content=[TextContentBlock(text=Text(annotations=[], value='{\"user_query\":\"какие измеряемые параметры есть в ручной проверке ms005a?\",\"specialists\":[\"equipment\"],\"reason\":\"The query specifically asks about the measurable parameters during manual testing using the MS005A equipment, which falls under the expertise of the equipment specialist.\"}'), type='text')], created_at=1752244678, incomplete_at=None, incomplete_details=None, metadata={}, object='thread.message', role='assistant', run_id='run_jnXH6cFXKk4ucve43EcYXzU2', status=None, thread_id='thread_PzFzZrSyrI9j6MMhj7whhw7e'),\n",
       " Message(id='msg_aavDtJ8Zt01zrnWmc2MgrXkO', assistant_id=None, attachments=[], completed_at=None, content=[TextContentBlock(text=Text(annotations=[], value='\\nUSER REQUEST: \\nкакие измеряемые параметры есть в ручной проверке ms005a?\\n'), type='text')], created_at=1752244676, incomplete_at=None, incomplete_details=None, metadata={'type': 'routing_decision'}, object='thread.message', role='user', run_id=None, status=None, thread_id='thread_PzFzZrSyrI9j6MMhj7whhw7e'),\n",
       " Message(id='msg_yzqqdznhv25VVGWWJQF2m8Bl', assistant_id='asst_1dQLsAz9p6T2cQyGtnjSeXnv', attachments=[], completed_at=None, content=[TextContentBlock(text=Text(annotations=[FileCitationAnnotation(end_index=238, file_citation=FileCitation(file_id='file-P3aPkqm1nphGqi3SwkYgCr'), start_index=225, text='【10:8†source】', type='file_citation'), FileCitationAnnotation(end_index=576, file_citation=FileCitation(file_id='file-P3aPkqm1nphGqi3SwkYgCr'), start_index=563, text='【10:8†source】', type='file_citation'), FileCitationAnnotation(end_index=711, file_citation=FileCitation(file_id='file-P3aPkqm1nphGqi3SwkYgCr'), start_index=698, text='【10:8†source】', type='file_citation'), FileCitationAnnotation(end_index=884, file_citation=FileCitation(file_id='file-P3aPkqm1nphGqi3SwkYgCr'), start_index=871, text='【10:8†source】', type='file_citation')], value='При тестировании генераторов на стенде MS005A можно выявить следующие проблемы:\\n\\n1. **Механические неисправности**:\\n   - Наличие шума или вибраций, указывающих на механические повреждения или неправильную установку генератора【10:8†source】.\\n\\n2. **Проблемы с регулятором напряжения**:\\n   - Ошибки, передаваемые регулятором напряжения, такие как электрические, механические или тепловые неисправности .\\n\\n3. **Неисправности обмоток генератора**:\\n   - Открытые цепи в обмотках статора.\\n   - Короткие замыкания между витками или фазами.\\n   - Замыкание обмотки на корпус【10:8†source】 .\\n\\n4. **Проблемы с началом генерации**:\\n   - Невозможность генератора начать выработку напряжения при увеличении оборотов【10:8†source】.\\n\\n5. **Неисправности под нагрузкой**:\\n   - Нестабильное выходное напряжение при увеличении нагрузки.\\n   - Превышение допустимого уровня переменного тока в цепи【10:8†source】 .\\n\\n6. **Диагностика 48V стартер-генераторов**:\\n   - Возможность тестирования генераторов с ременным приводом для гибридных автомобилей .\\n\\nСтенд MS005A оснащен функцией автоматического тестирования, что упрощает процесс диагностики и позволяет быстро выявлять неисправности .'), type='text')], created_at=1752244350, incomplete_at=None, incomplete_details=None, metadata={}, object='thread.message', role='assistant', run_id='run_qbeTpsksUrGKMXePtove1doY', status=None, thread_id='thread_PzFzZrSyrI9j6MMhj7whhw7e'),\n",
       " Message(id='msg_os3UGlKQwfA0uaBxUOHYVfrU', assistant_id='asst_aU6DIODwxNlFRxrY3WipBPjz', attachments=[], completed_at=None, content=[TextContentBlock(text=Text(annotations=[], value='{\"user_query\":\"какие проблемы в генераторе можно обнаружить при тестировании на ms005A?\",\"specialists\":[\"equipment\"],\"reason\":\"The query pertains to the capabilities of the MS005A equipment in diagnosing issues with a generator, which is within the expertise of the equipment specialist.\"}'), type='text')], created_at=1752244336, incomplete_at=None, incomplete_details=None, metadata={}, object='thread.message', role='assistant', run_id='run_ZoyyruipIrJdWgiryj7mZubP', status=None, thread_id='thread_PzFzZrSyrI9j6MMhj7whhw7e'),\n",
       " Message(id='msg_JqlwuZm30sZ53D5NeTUp1B9x', assistant_id=None, attachments=[], completed_at=None, content=[TextContentBlock(text=Text(annotations=[], value='\\nUSER REQUEST: \\nкакие проблемы в генераторе можно обнаружить при тестировании на ms005A?\\n'), type='text')], created_at=1752244333, incomplete_at=None, incomplete_details=None, metadata={'type': 'routing_decision'}, object='thread.message', role='user', run_id=None, status=None, thread_id='thread_PzFzZrSyrI9j6MMhj7whhw7e'),\n",
       " Message(id='msg_Z4pNnIxldH7lZXqoTlZNOimS', assistant_id='asst_1dQLsAz9p6T2cQyGtnjSeXnv', attachments=[], completed_at=None, content=[TextContentBlock(text=Text(annotations=[], value='МС203 представляет собой адаптер, используемый для диагностики электронно управляемых амортизаторов на стенде MS201. Его внешний вид представлен на изображении @D_17_IMG_034_PHOTO_MS203-adapter-appearance_fig29. \\n\\nАдаптер оснащен следующими разъемами:\\n1. USB-разъем для связи со стендом.\\n2. Разъем питания (тип 5.5 x 2.5 мм).\\n3. Разъем для подключения диагностических кабелей.\\n\\nКомплект адаптера включает пять специальных кабелей и один универсальный кабель. Специальные кабели имеют разъемы для подключения к адаптеру и к тестируемому устройству, как показано на изображении @D_17_IMG_034_PHOTO_special-cable-connectors_fig30. Универсальный кабель оснащен зажимами типа \"крокодил\" и разъемом для подключения к адаптеру, что видно на изображении @D_17_IMG_035_PHOTO_universal-cable-connectors_fig31   .'), type='text')], created_at=1752244286, incomplete_at=None, incomplete_details=None, metadata={}, object='thread.message', role='assistant', run_id='run_GmDvgSrivWXI70mBhOPyGtIO', status=None, thread_id='thread_PzFzZrSyrI9j6MMhj7whhw7e'),\n",
       " Message(id='msg_5w8kYNFaCukoFx2OFTPYadQT', assistant_id='asst_aU6DIODwxNlFRxrY3WipBPjz', attachments=[], completed_at=None, content=[TextContentBlock(text=Text(annotations=[], value='{\"user_query\":\"как выглядит МС 203?\",\"specialists\":[\"equipment\"],\"reason\":\"The query mentions a specific equipment model (МС 203), indicating a request for information about its appearance or specifications, which falls under the expertise of the equipment specialist.\"}'), type='text')], created_at=1752244276, incomplete_at=None, incomplete_details=None, metadata={}, object='thread.message', role='assistant', run_id='run_eWZlpY9ukxYiF6LjGmpaM8dA', status=None, thread_id='thread_PzFzZrSyrI9j6MMhj7whhw7e'),\n",
       " Message(id='msg_oOsf5BiXDIzVJCuZzIdcVItB', assistant_id=None, attachments=[], completed_at=None, content=[TextContentBlock(text=Text(annotations=[], value='\\nUSER REQUEST: \\nкак выглядит  МС 203?\\n'), type='text')], created_at=1752244274, incomplete_at=None, incomplete_details=None, metadata={'type': 'routing_decision'}, object='thread.message', role='user', run_id=None, status=None, thread_id='thread_PzFzZrSyrI9j6MMhj7whhw7e')]"
      ]
     },
     "execution_count": 6,
     "metadata": {},
     "output_type": "execute_result"
    }
   ],
   "source": [
    "all_messages"
   ]
  },
  {
   "cell_type": "markdown",
   "id": "b38494ae",
   "metadata": {},
   "source": [
    "# Tables"
   ]
  },
  {
   "cell_type": "code",
   "execution_count": 5,
   "id": "183ba4c8",
   "metadata": {},
   "outputs": [],
   "source": [
    "import pandas as pd"
   ]
  },
  {
   "cell_type": "code",
   "execution_count": 6,
   "id": "78a2f5b2",
   "metadata": {},
   "outputs": [],
   "source": [
    "df = pd.read_csv('data/files_processed/table_data/tables/generators_start-stop.csv')"
   ]
  },
  {
   "cell_type": "code",
   "execution_count": 8,
   "id": "175c8a8e",
   "metadata": {},
   "outputs": [],
   "source": [
    "df = df.drop(0)"
   ]
  },
  {
   "cell_type": "code",
   "execution_count": 10,
   "id": "2b109529",
   "metadata": {},
   "outputs": [],
   "source": [
    "df.to_csv('data/files_processed/table_data/tables/generators_start-stop.csv')"
   ]
  }
 ],
 "metadata": {
  "kernelspec": {
   "display_name": ".venv",
   "language": "python",
   "name": "python3"
  },
  "language_info": {
   "codemirror_mode": {
    "name": "ipython",
    "version": 3
   },
   "file_extension": ".py",
   "mimetype": "text/x-python",
   "name": "python",
   "nbconvert_exporter": "python",
   "pygments_lexer": "ipython3",
   "version": "3.10.11"
  }
 },
 "nbformat": 4,
 "nbformat_minor": 5
}

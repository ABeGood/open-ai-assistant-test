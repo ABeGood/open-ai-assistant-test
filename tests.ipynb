{
 "cells": [
  {
   "cell_type": "code",
   "execution_count": 1,
   "id": "30fa9a01",
   "metadata": {},
   "outputs": [],
   "source": [
    "import os\n",
    "from dotenv import load_dotenv\n",
    "from openai import OpenAI"
   ]
  },
  {
   "cell_type": "code",
   "execution_count": null,
   "id": "e50e799d",
   "metadata": {},
   "outputs": [],
   "source": [
    "load_dotenv()\n",
    "token = os.environ.get(\"OPENAI_TOKEN\")\n",
    "client = OpenAI(api_key=token)"
   ]
  },
  {
   "cell_type": "code",
   "execution_count": 20,
   "id": "00ffc770",
   "metadata": {},
   "outputs": [],
   "source": [
    "assistant = client.beta.assistants.retrieve(assistant_id='asst_dwB6XZQ5mOUvhapJ5dxSWUex')"
   ]
  },
  {
   "cell_type": "code",
   "execution_count": 21,
   "id": "42183a04",
   "metadata": {},
   "outputs": [
    {
     "name": "stdout",
     "output_type": "stream",
     "text": [
      "[FileSearchTool(type='file_search', file_search=FileSearch(max_num_results=20, ranking_options=FileSearchRankingOptions(score_threshold=0.0, ranker='default_2024_08_21')))]\n",
      "0.5\n",
      "1.0\n"
     ]
    }
   ],
   "source": [
    "print(assistant.tools)\n",
    "print(assistant.temperature)\n",
    "print(assistant.top_p)"
   ]
  },
  {
   "cell_type": "code",
   "execution_count": 22,
   "id": "170eda61",
   "metadata": {},
   "outputs": [
    {
     "name": "stderr",
     "output_type": "stream",
     "text": [
      "C:\\Users\\AG\\AppData\\Local\\Temp\\ipykernel_10272\\3600338518.py:1: DeprecationWarning: The Assistants API is deprecated in favor of the Responses API\n",
      "  thread = client.beta.threads.create()\n"
     ]
    }
   ],
   "source": [
    "thread = client.beta.threads.create()"
   ]
  },
  {
   "cell_type": "code",
   "execution_count": 23,
   "id": "0152a427",
   "metadata": {},
   "outputs": [
    {
     "name": "stderr",
     "output_type": "stream",
     "text": [
      "C:\\Users\\AG\\AppData\\Local\\Temp\\ipykernel_10272\\470751337.py:1: DeprecationWarning: The Assistants API is deprecated in favor of the Responses API\n",
      "  message = client.beta.threads.messages.create(\n"
     ]
    }
   ],
   "source": [
    "message = client.beta.threads.messages.create(\n",
    "  thread_id=thread.id,\n",
    "  role=\"user\",\n",
    "  content=\"дай мне список из всех позиций оборудования\"\n",
    ")"
   ]
  },
  {
   "cell_type": "code",
   "execution_count": 24,
   "id": "f5da09a7",
   "metadata": {},
   "outputs": [
    {
     "name": "stderr",
     "output_type": "stream",
     "text": [
      "C:\\Users\\AG\\AppData\\Local\\Temp\\ipykernel_10272\\99784880.py:1: DeprecationWarning: The Assistants API is deprecated in favor of the Responses API\n",
      "  run = client.beta.threads.runs.create_and_poll(\n"
     ]
    }
   ],
   "source": [
    "run = client.beta.threads.runs.create_and_poll(\n",
    "  thread_id=thread.id,\n",
    "  assistant_id=assistant.id,\n",
    "  instructions=\"Think in English, reply in users language.\"\n",
    ")"
   ]
  },
  {
   "cell_type": "code",
   "execution_count": null,
   "id": "3149eac0",
   "metadata": {},
   "outputs": [
    {
     "name": "stdout",
     "output_type": "stream",
     "text": [
      "Success!\n"
     ]
    },
    {
     "name": "stderr",
     "output_type": "stream",
     "text": [
      "C:\\Users\\AG\\AppData\\Local\\Temp\\ipykernel_10272\\1429658800.py:3: DeprecationWarning: The Assistants API is deprecated in favor of the Responses API\n",
      "  messages = client.beta.threads.messages.list(\n"
     ]
    },
    {
     "name": "stdout",
     "output_type": "stream",
     "text": [
      "SyncCursorPage[Message](data=[Message(id='msg_nOxHrmsdhZBfjI6feUZiU2Lx', assistant_id='asst_dwB6XZQ5mOUvhapJ5dxSWUex', attachments=[], completed_at=None, content=[TextContentBlock(text=Text(annotations=[FileCitationAnnotation(end_index=611, file_citation=FileCitation(file_id='file-QsN2mT6fPCJ15U6Q5spzbX'), start_index=599, text='【4:0†source】', type='file_citation'), FileCitationAnnotation(end_index=623, file_citation=FileCitation(file_id='file-DQW8JdbKEZR4U6XuLsAwfd'), start_index=611, text='【4:1†source】', type='file_citation')], value='Based on the information from the documents you uploaded, here is a list of equipment items:\\n\\n1. **Stend MS004 COM** - 1 unit\\n2. **MS0109** - set of cables for connecting to the generator voltage regulator - 1 unit\\n3. **Cable for connecting an external battery** - 2 units\\n4. **Generator positive terminal adapter** - 2 units\\n5. **MS0114** - Fuse (type 22x58mm, 100A) - 1 unit\\n6. **Instruction manual with QR code** - 1 unit\\n7. **Module MS900A** - 1 unit\\n8. **Module MS900B** - 1 unit\\n9. **Module MS900C** - 1 unit\\n10. Various accessories like hoses, filters, keys, sockets, clamps, and flash drives【4:0†source】【4:1†source】.\\n\\nThis list includes equipment such as stands, cables, adapters, modules, and various tools necessary for diagnostics and repairs.'), type='text')], created_at=1749074108, incomplete_at=None, incomplete_details=None, metadata={}, object='thread.message', role='assistant', run_id='run_kfNraVJ1PoMIYmUzOhH36kH8', status=None, thread_id='thread_5Mpv7D0jA7wCFg86bXB9K77r'), Message(id='msg_1oeikGXthGO9iLXDa3jorIB2', assistant_id=None, attachments=[], completed_at=None, content=[TextContentBlock(text=Text(annotations=[], value='дай мне список из всех позиций оборудования'), type='text')], created_at=1749074101, incomplete_at=None, incomplete_details=None, metadata={}, object='thread.message', role='user', run_id=None, status=None, thread_id='thread_5Mpv7D0jA7wCFg86bXB9K77r')], has_more=False, object='list', first_id='msg_nOxHrmsdhZBfjI6feUZiU2Lx', last_id='msg_1oeikGXthGO9iLXDa3jorIB2')\n"
     ]
    }
   ],
   "source": [
    "if run.status == 'completed': \n",
    "    print('Success!')\n",
    "    messages = client.beta.threads.messages.list(\n",
    "        thread_id=thread.id\n",
    "    )\n",
    "    print(messages.data[0].content[0].text.value)\n",
    "else:\n",
    "    print('Fail!')\n",
    "    print(run.status)"
   ]
  }
 ],
 "metadata": {
  "kernelspec": {
   "display_name": ".venv",
   "language": "python",
   "name": "python3"
  },
  "language_info": {
   "codemirror_mode": {
    "name": "ipython",
    "version": 3
   },
   "file_extension": ".py",
   "mimetype": "text/x-python",
   "name": "python",
   "nbconvert_exporter": "python",
   "pygments_lexer": "ipython3",
   "version": "3.12.0"
  }
 },
 "nbformat": 4,
 "nbformat_minor": 5
}
